{
 "cells": [
  {
   "cell_type": "code",
   "execution_count": 27,
   "id": "f4f91576-18d4-46d0-9dc6-c9232d7425b9",
   "metadata": {},
   "outputs": [
    {
     "name": "stdout",
     "output_type": "stream",
     "text": [
      "Total sequences: 1048576\n"
     ]
    }
   ],
   "source": [
    "from itertools import product\n",
    "\n",
    "def generate_qualnucleotide_combinations(n_blocks=3):\n",
    "    tks = []\n",
    "    for p in product(['AAAA', 'CCCC', 'GGGG', 'TTTT'], repeat=3):\n",
    "        tks.append(\"\".join(p))\n",
    "    return(tks)\n",
    "\n",
    "def generate_dinucleotide_combinations(repeats):\n",
    "    tks = []\n",
    "    for p in product(['AA', 'CC', 'GG', 'TT'], repeat=repeats):\n",
    "        tks.append(\"\".join(p))\n",
    "    return(tks)\n",
    "\n",
    "sequences = generate_trinucleotide_combinations(n_blocks=3)\n",
    "\n",
    "output = open(\"four_mer_sequences.txt\",\"w\")\n",
    "for seq in sequences:  # print first 10\n",
    "    output.write(seq + \"\\n\")\n",
    "output.close()\n",
    "\n",
    "sequences = generate_dinucleotide_combinations(6)\n",
    "\n",
    "output = open(\"two_mer_sequences.txt\",\"w\")\n",
    "for seq in sequences:  # print first 10\n",
    "    output.write(seq + \"\\n\")\n",
    "output.close()\n",
    "\n",
    "sequences = generate_dinucleotide_combinations(10)\n",
    "\n",
    "output = open(\"two_mer_sequences_20.txt\", \"w\")\n",
    "for seq in sequences:  # print first 10\n",
    "    output.write(seq + \"\\t1\\n\")\n",
    "output.close()\n",
    "\n",
    "print(f\"Total sequences: {len(sequences)}\")"
   ]
  },
  {
   "cell_type": "code",
   "execution_count": 20,
   "id": "58b07a50-e80c-4263-975c-c8af26b84899",
   "metadata": {},
   "outputs": [],
   "source": [
    "import random \n",
    "sequences = generate_trinucleotide_combinations(n_blocks=3)\n",
    "output = open(\"four_mer_sequences_degenerate.txt\",\"w\")\n",
    "for sequence in sequences:\n",
    "    output.write(sequence + \"\\t10\\n\")\n",
    "    for pos in range(len(sequence)):\n",
    "        if sequence[pos] == 'A':\n",
    "            output.write(sequence[0:pos] + random.choice(['C','G','T']) + sequence[pos+1:] + \"\\t1\\n\")\n",
    "        elif sequence[pos] == 'C':\n",
    "            output.write(sequence[0:pos] + random.choice(['A','G','T']) + sequence[pos+1:] + \"\\t1\\n\")\n",
    "        elif sequence[pos] == 'G':\n",
    "            output.write(sequence[0:pos] + random.choice(['A','C','T']) + sequence[pos+1:] + \"\\t1\\n\")\n",
    "        elif sequence[pos] == 'T':\n",
    "            output.write(sequence[0:pos] + random.choice(['C','G','A']) + sequence[pos+1:] + \"\\t1\\n\")\n",
    "        else:\n",
    "            1 / 0 \n",
    "output.close()\n"
   ]
  },
  {
   "cell_type": "code",
   "execution_count": 22,
   "id": "dbfee720-6c43-4e73-a31b-be5ac2b3a20b",
   "metadata": {},
   "outputs": [],
   "source": [
    "import random \n",
    "sequences = generate_trinucleotide_combinations(n_blocks=3)\n",
    "output = open(\"four_mer_sequences_degenerate_all.txt\",\"w\")\n",
    "for sequence in sequences:\n",
    "    output.write(sequence + \"\\t10\\n\")\n",
    "    for pos in range(len(sequence)):\n",
    "        for i in ['A','C','G','T']:\n",
    "            if i != sequence[pos]:\n",
    "                output.write(sequence[0:pos] + i + sequence[pos+1:] + \"\\t1\\n\")\n",
    "            \n",
    "output.close()\n"
   ]
  },
  {
   "cell_type": "code",
   "execution_count": 21,
   "id": "c65e13df-aa11-4e44-b6e1-d212ef14b70c",
   "metadata": {},
   "outputs": [],
   "source": [
    "import random \n",
    "sequences = generate_trinucleotide_combinations(n_blocks=3)\n",
    "output = open(\"four_mer_sequences_degenerate_subset.txt\",\"w\")\n",
    "for sequence in sequences[1:5]:\n",
    "    output.write(sequence + \"\\t10\\n\")\n",
    "    for pos in range(len(sequence)):\n",
    "        if sequence[pos] == 'A':\n",
    "            output.write(sequence[0:pos] + random.choice(['C','G','T']) + sequence[pos+1:] + \"\\t1\\n\")\n",
    "        elif sequence[pos] == 'C':\n",
    "            output.write(sequence[0:pos] + random.choice(['A','G','T']) + sequence[pos+1:] + \"\\t1\\n\")\n",
    "        elif sequence[pos] == 'G':\n",
    "            output.write(sequence[0:pos] + random.choice(['A','C','T']) + sequence[pos+1:] + \"\\t1\\n\")\n",
    "        elif sequence[pos] == 'T':\n",
    "            output.write(sequence[0:pos] + random.choice(['C','G','A']) + sequence[pos+1:] + \"\\t1\\n\")\n",
    "        else:\n",
    "            1 / 0 \n",
    "output.close()\n"
   ]
  },
  {
   "cell_type": "code",
   "execution_count": 34,
   "id": "4e2a600f-0feb-47c0-a3e1-3880898ce1a8",
   "metadata": {},
   "outputs": [],
   "source": [
    "def generate_anchored_error_sequence_set(output_file):\n",
    "    tks = []\n",
    "    for p in product(['AAAAA', 'CCCCC', 'GGGGG', 'TTTTT'], repeat=5):\n",
    "        tks.append(\"\".join(p))\n",
    "\n",
    "    errors = []\n",
    "    for tk in tks: #[0:1]:\n",
    "        # mutate the center bases of each pattern to all other bases \n",
    "        for pos in [5,10,15,20,25]:\n",
    "            for i in ['A','C','G','T']:\n",
    "                errors.append(tk[0:(pos-3)] + i + tk[(pos-3)+1:])\n",
    "\n",
    "    output = open(output_file,\"w\")\n",
    "    for tk in tks: # tks[0:1]:\n",
    "        output.write(tk + \"\\t100\\n\")\n",
    "    for error in errors:\n",
    "        output.write(error + \"\\t1\\n\")\n",
    "                              \n",
    "    output.close()\n",
    "\n",
    "\n",
    "sequences = generate_anchored_error_sequence_set(\"Anchored_error_20mer_set.txt\")\n"
   ]
  },
  {
   "cell_type": "code",
   "execution_count": null,
   "id": "42bc7b6f-4b20-4f02-9a6a-9d89ff093409",
   "metadata": {},
   "outputs": [],
   "source": []
  }
 ],
 "metadata": {
  "kernelspec": {
   "display_name": "Python 3 (ipykernel)",
   "language": "python",
   "name": "python3"
  },
  "language_info": {
   "codemirror_mode": {
    "name": "ipython",
    "version": 3
   },
   "file_extension": ".py",
   "mimetype": "text/x-python",
   "name": "python",
   "nbconvert_exporter": "python",
   "pygments_lexer": "ipython3",
   "version": "3.10.14"
  }
 },
 "nbformat": 4,
 "nbformat_minor": 5
}
